{
 "cells": [
  {
   "cell_type": "code",
   "execution_count": 1,
   "metadata": {},
   "outputs": [
    {
     "name": "stderr",
     "output_type": "stream",
     "text": [
      "Using TensorFlow backend.\n"
     ]
    }
   ],
   "source": [
    "#Importing the libraries\n",
    "import numpy as np\n",
    "from tqdm import tqdm\n",
    "import os\n",
    "from keras.models import Sequential, load_model\n",
    "from keras.layers import LSTM, CuDNNLSTM, Dropout, TimeDistributed, Dense, Activation, Embedding, Dense\n",
    "from keras.callbacks import ModelCheckpoint\n",
    "from keras.utils import np_utils\n",
    "import json\n",
    "import argparse\n",
    "import os\n",
    "from datetime import datetime as dt\n",
    "import warnings\n",
    "warnings.filterwarnings('ignore')"
   ]
  },
  {
   "cell_type": "code",
   "execution_count": 2,
   "metadata": {},
   "outputs": [
    {
     "data": {
      "text/plain": [
       "['.git',\n",
       " '.ipynb_checkpoints',\n",
       " 'AI Sci Fi Stories - Char RNN.ipynb',\n",
       " 'data',\n",
       " 'LICENSE',\n",
       " 'logs',\n",
       " 'model',\n",
       " 'Music-Generation-using-Deep-Learning-master',\n",
       " 'README.md',\n",
       " 'Text Generation.ipynb']"
      ]
     },
     "execution_count": 2,
     "metadata": {},
     "output_type": "execute_result"
    }
   ],
   "source": [
    "os.listdir()"
   ]
  },
  {
   "cell_type": "code",
   "execution_count": 3,
   "metadata": {},
   "outputs": [
    {
     "data": {
      "text/plain": [
       "['char_to_idx.json',\n",
       " 'input.txt',\n",
       " 'internet_archive_scifi_v3.txt',\n",
       " 'scifi-stories-text-corpus.zip']"
      ]
     },
     "execution_count": 3,
     "metadata": {},
     "output_type": "execute_result"
    }
   ],
   "source": [
    "os.listdir(\"data\")"
   ]
  },
  {
   "cell_type": "code",
   "execution_count": 4,
   "metadata": {},
   "outputs": [
    {
     "name": "stdout",
     "output_type": "stream",
     "text": [
      "Archive:  data/scifi-stories-text-corpus.zip\n",
      "  inflating: data/internet_archive_scifi_v3.txt  \n"
     ]
    }
   ],
   "source": [
    "!unzip data/scifi-stories-text-corpus.zip -d data"
   ]
  },
  {
   "cell_type": "code",
   "execution_count": 6,
   "metadata": {},
   "outputs": [
    {
     "name": "stdout",
     "output_type": "stream",
     "text": [
      "777 data/internet_archive_scifi_v3.txt\r\n"
     ]
    }
   ],
   "source": [
    "!sudo chmod 777 data/internet_archive_scifi_v3.txt\n",
    "!stat -c \"%a %n\" data/internet_archive_scifi_v3.txt"
   ]
  },
  {
   "cell_type": "code",
   "execution_count": 3,
   "metadata": {},
   "outputs": [],
   "source": [
    "#Load the raw text and convert them to lowercase\n",
    "filename = \"data/internet_archive_scifi_v3.txt\"\n",
    "text_corpus = open(filename).read()\n",
    "len_text = len(text_corpus)"
   ]
  },
  {
   "cell_type": "code",
   "execution_count": 4,
   "metadata": {},
   "outputs": [
    {
     "name": "stdout",
     "output_type": "stream",
     "text": [
      "Number of chracters in the text corpus:  149326361\n",
      "Number of unique characters in the text corpus:  75\n"
     ]
    }
   ],
   "source": [
    "print(\"Number of chracters in the text corpus: \",len_text)\n",
    "print(\"Number of unique characters in the text corpus: \",len(set(char for char in text_corpus)))"
   ]
  },
  {
   "cell_type": "code",
   "execution_count": 5,
   "metadata": {},
   "outputs": [],
   "source": [
    "DATA_DIR = './data'\n",
    "LOG_DIR = './logs'\n",
    "MODEL_DIR = './model'\n",
    "\n",
    "BATCH_SIZE = 64\n",
    "SEQ_LENGTH = 512\n",
    "\n",
    "class TrainLogger(object):\n",
    "    def __init__(self, file):\n",
    "        self.file = os.path.join(LOG_DIR, file)\n",
    "        self.epochs = 0\n",
    "        with open(self.file, 'w') as f:\n",
    "            f.write('epoch,loss,acc\\n')\n",
    "\n",
    "    def add_entry(self, loss, acc):\n",
    "        self.epochs += 1\n",
    "        s = '{},{},{}\\n'.format(self.epochs, loss, acc)\n",
    "        with open(self.file, 'a') as f:\n",
    "            f.write(s)\n",
    "\n",
    "def read_batches(T, vocab_size):\n",
    "    length = T.shape[0]; #129,665\n",
    "    batch_chars = int(length / BATCH_SIZE); # 8,104\n",
    "\n",
    "    for start in range(0, batch_chars - SEQ_LENGTH, SEQ_LENGTH): # (0, 8040, 64)\n",
    "        X = np.zeros((BATCH_SIZE, SEQ_LENGTH)) # 16X64\n",
    "        Y = np.zeros((BATCH_SIZE, SEQ_LENGTH, vocab_size)) # 16X64X86\n",
    "        for batch_idx in range(0, BATCH_SIZE): # (0,16)\n",
    "            for i in range(0, SEQ_LENGTH): #(0,64)\n",
    "                X[batch_idx, i] = T[batch_chars * batch_idx + start + i] # \n",
    "                Y[batch_idx, i, T[batch_chars * batch_idx + start + i + 1]] = 1\n",
    "        yield X, Y\n",
    "        \n",
    "def save_weights(epoch, model):\n",
    "    if not os.path.exists(MODEL_DIR):\n",
    "        os.makedirs(MODEL_DIR)\n",
    "    model.save_weights(os.path.join(MODEL_DIR, 'weights.{}.h5'.format(epoch)))\n",
    "\n",
    "def load_weights(epoch, model):\n",
    "    model.load_weights(os.path.join(MODEL_DIR, 'weights.{}.h5'.format(epoch)))\n",
    "\n",
    "def build_model(batch_size, seq_len, vocab_size):\n",
    "    model = Sequential()\n",
    "    model.add(Embedding(vocab_size, 512, batch_input_shape=(batch_size, seq_len)))\n",
    "    for i in range(3):\n",
    "        model.add(LSTM(256, return_sequences=True, stateful=True))\n",
    "        model.add(Dropout(0.2))\n",
    "\n",
    "    model.add(TimeDistributed(Dense(vocab_size))) \n",
    "    model.add(Activation('softmax'))\n",
    "    return model\n",
    "        \n",
    "def train(text, epochs=100, save_freq=10):\n",
    "\n",
    "    # character to index and vice-versa mappings\n",
    "    char_to_idx = { ch: i for (i, ch) in enumerate(sorted(list(set(text)))) }\n",
    "    print(\"Number of unique characters: \" + str(len(char_to_idx))) #86\n",
    "\n",
    "    with open(os.path.join(DATA_DIR, 'char_to_idx.json'), 'w') as f:\n",
    "        json.dump(char_to_idx, f)\n",
    "\n",
    "    idx_to_char = { i: ch for (ch, i) in char_to_idx.items() }\n",
    "    vocab_size = len(char_to_idx)\n",
    "\n",
    "    #model_architecture\n",
    "    model = build_model(BATCH_SIZE, SEQ_LENGTH, vocab_size)\n",
    "    model.summary()\n",
    "    model.compile(loss='categorical_crossentropy', optimizer='adam', metrics=['accuracy'])\n",
    "\n",
    "    #Train data generation\n",
    "    T = np.asarray([char_to_idx[c] for c in text], dtype=np.int32) #convert complete text into numerical indices\n",
    "\n",
    "    print(\"Length of text:\" + str(T.size)) #129,665\n",
    "\n",
    "    steps_per_epoch = (len(text) / BATCH_SIZE - 1) / SEQ_LENGTH  \n",
    "\n",
    "    log = TrainLogger('training_log.csv')\n",
    "\n",
    "    for epoch in range(epochs):\n",
    "        st = dt.now()\n",
    "        print('\\nEpoch {}/{}'.format(epoch + 1, epochs))\n",
    "        \n",
    "        losses, accs = [], []\n",
    "\n",
    "        for i, (X, Y) in enumerate(read_batches(T, vocab_size)):\n",
    "            \n",
    "            #print(X);\n",
    "\n",
    "            loss, acc = model.train_on_batch(X, Y)\n",
    "            print('Batch {}: loss = {}, acc = {}'.format(i + 1, loss, acc))\n",
    "            losses.append(loss)\n",
    "            accs.append(acc)\n",
    "        print(\"Time taken to complete epoch {} is {}: \".format(epoch,dt.now()-st))\n",
    "\n",
    "        log.add_entry(np.average(losses), np.average(accs))\n",
    "\n",
    "        if (epoch + 1) % save_freq == 0:\n",
    "            save_weights(epoch + 1, model)\n",
    "            print('Saved checkpoint to', 'weights.{}.h5'.format(epoch + 1))"
   ]
  },
  {
   "cell_type": "code",
   "execution_count": 6,
   "metadata": {
    "scrolled": true
   },
   "outputs": [
    {
     "name": "stdout",
     "output_type": "stream",
     "text": [
      "Number of unique characters: 75\n",
      "WARNING:tensorflow:From /root/anaconda3/lib/python3.7/site-packages/tensorflow/python/framework/op_def_library.py:263: colocate_with (from tensorflow.python.framework.ops) is deprecated and will be removed in a future version.\n",
      "Instructions for updating:\n",
      "Colocations handled automatically by placer.\n",
      "WARNING:tensorflow:From /root/anaconda3/lib/python3.7/site-packages/keras/backend/tensorflow_backend.py:3445: calling dropout (from tensorflow.python.ops.nn_ops) with keep_prob is deprecated and will be removed in a future version.\n",
      "Instructions for updating:\n",
      "Please use `rate` instead of `keep_prob`. Rate should be set to `rate = 1 - keep_prob`.\n",
      "_________________________________________________________________\n",
      "Layer (type)                 Output Shape              Param #   \n",
      "=================================================================\n",
      "embedding_1 (Embedding)      (64, 512, 512)            38400     \n",
      "_________________________________________________________________\n",
      "lstm_1 (LSTM)                (64, 512, 256)            787456    \n",
      "_________________________________________________________________\n",
      "dropout_1 (Dropout)          (64, 512, 256)            0         \n",
      "_________________________________________________________________\n",
      "lstm_2 (LSTM)                (64, 512, 256)            525312    \n",
      "_________________________________________________________________\n",
      "dropout_2 (Dropout)          (64, 512, 256)            0         \n",
      "_________________________________________________________________\n",
      "lstm_3 (LSTM)                (64, 512, 256)            525312    \n",
      "_________________________________________________________________\n",
      "dropout_3 (Dropout)          (64, 512, 256)            0         \n",
      "_________________________________________________________________\n",
      "time_distributed_1 (TimeDist (64, 512, 75)             19275     \n",
      "_________________________________________________________________\n",
      "activation_1 (Activation)    (64, 512, 75)             0         \n",
      "=================================================================\n",
      "Total params: 1,895,755\n",
      "Trainable params: 1,895,755\n",
      "Non-trainable params: 0\n",
      "_________________________________________________________________\n",
      "Length of text:149326361\n",
      "\n",
      "Epoch 1/2\n",
      "WARNING:tensorflow:From /root/anaconda3/lib/python3.7/site-packages/tensorflow/python/ops/math_ops.py:3066: to_int32 (from tensorflow.python.ops.math_ops) is deprecated and will be removed in a future version.\n",
      "Instructions for updating:\n",
      "Use tf.cast instead.\n",
      "WARNING:tensorflow:From /root/anaconda3/lib/python3.7/site-packages/tensorflow/python/ops/math_grad.py:102: div (from tensorflow.python.ops.math_ops) is deprecated and will be removed in a future version.\n",
      "Instructions for updating:\n",
      "Deprecated in favor of operator or tf.math.divide.\n",
      "Batch 1: loss = 4.317931175231934, acc = 0.010955810546875\n",
      "Batch 2: loss = 4.298014163970947, acc = 0.175506591796875\n",
      "Batch 3: loss = 4.243073463439941, acc = 0.177825927734375\n",
      "Batch 4: loss = 4.050532817840576, acc = 0.1776123046875\n",
      "Batch 5: loss = 3.590933084487915, acc = 0.1773681640625\n",
      "Batch 6: loss = 3.5102241039276123, acc = 0.176727294921875\n",
      "Batch 7: loss = 3.344444751739502, acc = 0.169586181640625\n",
      "Batch 8: loss = 3.273803949356079, acc = 0.1375732421875\n",
      "Batch 9: loss = 3.2712478637695312, acc = 0.096435546875\n",
      "Batch 10: loss = 3.245728015899658, acc = 0.100341796875\n",
      "Batch 11: loss = 3.2190980911254883, acc = 0.139617919921875\n",
      "Batch 12: loss = 3.1701464653015137, acc = 0.1680908203125\n",
      "Batch 13: loss = 3.1638901233673096, acc = 0.174346923828125\n",
      "Batch 14: loss = 3.1597437858581543, acc = 0.17474365234375\n",
      "Batch 15: loss = 3.166630268096924, acc = 0.171783447265625\n",
      "Batch 16: loss = 3.1487340927124023, acc = 0.168670654296875\n",
      "Batch 17: loss = 3.156891107559204, acc = 0.16387939453125\n",
      "Batch 18: loss = 3.146777629852295, acc = 0.16217041015625\n",
      "Batch 19: loss = 3.153850555419922, acc = 0.158416748046875\n",
      "Batch 20: loss = 3.141777276992798, acc = 0.160003662109375\n",
      "Batch 21: loss = 3.1464076042175293, acc = 0.163726806640625\n",
      "Batch 22: loss = 3.135030746459961, acc = 0.16607666015625\n",
      "Batch 23: loss = 3.139948606491089, acc = 0.169219970703125\n",
      "Batch 24: loss = 3.1326043605804443, acc = 0.17138671875\n",
      "Batch 25: loss = 3.129397392272949, acc = 0.173828125\n",
      "Batch 26: loss = 3.134951591491699, acc = 0.1748046875\n",
      "Batch 27: loss = 3.1233773231506348, acc = 0.172119140625\n",
      "Batch 28: loss = 3.122765064239502, acc = 0.17193603515625\n",
      "Batch 29: loss = 3.1125035285949707, acc = 0.17352294921875\n",
      "Batch 30: loss = 3.118847608566284, acc = 0.172454833984375\n",
      "Batch 31: loss = 3.114539623260498, acc = 0.1697998046875\n",
      "Batch 32: loss = 3.1118245124816895, acc = 0.171966552734375\n",
      "Batch 33: loss = 3.1163406372070312, acc = 0.17291259765625\n",
      "Batch 34: loss = 3.123462200164795, acc = 0.174468994140625\n",
      "Batch 35: loss = 3.1283047199249268, acc = 0.1719970703125\n",
      "Batch 36: loss = 3.1185455322265625, acc = 0.173858642578125\n",
      "Batch 37: loss = 3.115787982940674, acc = 0.17462158203125\n",
      "Batch 38: loss = 3.1295440196990967, acc = 0.176300048828125\n",
      "Batch 39: loss = 3.1189894676208496, acc = 0.174163818359375\n",
      "Batch 40: loss = 3.129762649536133, acc = 0.1728515625\n",
      "Batch 41: loss = 3.1103973388671875, acc = 0.176300048828125\n",
      "Batch 42: loss = 3.1196818351745605, acc = 0.175384521484375\n",
      "Batch 43: loss = 3.112459659576416, acc = 0.175872802734375\n",
      "Batch 44: loss = 3.1108899116516113, acc = 0.176300048828125\n",
      "Batch 45: loss = 3.1152782440185547, acc = 0.17413330078125\n",
      "Batch 46: loss = 3.112821102142334, acc = 0.17529296875\n",
      "Batch 47: loss = 3.117375373840332, acc = 0.17547607421875\n",
      "Batch 48: loss = 3.1193137168884277, acc = 0.177215576171875\n",
      "Batch 49: loss = 3.112699031829834, acc = 0.174407958984375\n",
      "Batch 50: loss = 3.111870050430298, acc = 0.17596435546875\n",
      "Batch 51: loss = 3.099205255508423, acc = 0.175994873046875\n",
      "Batch 52: loss = 3.1109423637390137, acc = 0.177032470703125\n",
      "Batch 53: loss = 3.101515293121338, acc = 0.1751708984375\n",
      "Batch 54: loss = 3.1125104427337646, acc = 0.174652099609375\n",
      "Batch 55: loss = 3.101558208465576, acc = 0.176116943359375\n",
      "Batch 56: loss = 3.1108713150024414, acc = 0.175323486328125\n",
      "Batch 57: loss = 3.108208656311035, acc = 0.17291259765625\n"
     ]
    },
    {
     "ename": "KeyboardInterrupt",
     "evalue": "",
     "output_type": "error",
     "traceback": [
      "\u001b[0;31m---------------------------------------------------------------------------\u001b[0m",
      "\u001b[0;31mKeyboardInterrupt\u001b[0m                         Traceback (most recent call last)",
      "\u001b[0;32m<ipython-input-6-44120e9c52d5>\u001b[0m in \u001b[0;36m<module>\u001b[0;34m\u001b[0m\n\u001b[0;32m----> 1\u001b[0;31m \u001b[0mtrain\u001b[0m\u001b[0;34m(\u001b[0m\u001b[0mopen\u001b[0m\u001b[0;34m(\u001b[0m\u001b[0mos\u001b[0m\u001b[0;34m.\u001b[0m\u001b[0mpath\u001b[0m\u001b[0;34m.\u001b[0m\u001b[0mjoin\u001b[0m\u001b[0;34m(\u001b[0m\u001b[0mDATA_DIR\u001b[0m\u001b[0;34m,\u001b[0m \u001b[0;34m\"internet_archive_scifi_v3.txt\"\u001b[0m\u001b[0;34m)\u001b[0m\u001b[0;34m)\u001b[0m\u001b[0;34m.\u001b[0m\u001b[0mread\u001b[0m\u001b[0;34m(\u001b[0m\u001b[0;34m)\u001b[0m\u001b[0;34m,\u001b[0m \u001b[0;36m2\u001b[0m\u001b[0;34m,\u001b[0m \u001b[0;36m2\u001b[0m\u001b[0;34m)\u001b[0m\u001b[0;34m\u001b[0m\u001b[0;34m\u001b[0m\u001b[0m\n\u001b[0m",
      "\u001b[0;32m<ipython-input-5-719b1dd16776>\u001b[0m in \u001b[0;36mtrain\u001b[0;34m(text, epochs, save_freq)\u001b[0m\n\u001b[1;32m     87\u001b[0m             \u001b[0;31m#print(X);\u001b[0m\u001b[0;34m\u001b[0m\u001b[0;34m\u001b[0m\u001b[0;34m\u001b[0m\u001b[0m\n\u001b[1;32m     88\u001b[0m \u001b[0;34m\u001b[0m\u001b[0m\n\u001b[0;32m---> 89\u001b[0;31m             \u001b[0mloss\u001b[0m\u001b[0;34m,\u001b[0m \u001b[0macc\u001b[0m \u001b[0;34m=\u001b[0m \u001b[0mmodel\u001b[0m\u001b[0;34m.\u001b[0m\u001b[0mtrain_on_batch\u001b[0m\u001b[0;34m(\u001b[0m\u001b[0mX\u001b[0m\u001b[0;34m,\u001b[0m \u001b[0mY\u001b[0m\u001b[0;34m)\u001b[0m\u001b[0;34m\u001b[0m\u001b[0;34m\u001b[0m\u001b[0m\n\u001b[0m\u001b[1;32m     90\u001b[0m             \u001b[0mprint\u001b[0m\u001b[0;34m(\u001b[0m\u001b[0;34m'Batch {}: loss = {}, acc = {}'\u001b[0m\u001b[0;34m.\u001b[0m\u001b[0mformat\u001b[0m\u001b[0;34m(\u001b[0m\u001b[0mi\u001b[0m \u001b[0;34m+\u001b[0m \u001b[0;36m1\u001b[0m\u001b[0;34m,\u001b[0m \u001b[0mloss\u001b[0m\u001b[0;34m,\u001b[0m \u001b[0macc\u001b[0m\u001b[0;34m)\u001b[0m\u001b[0;34m)\u001b[0m\u001b[0;34m\u001b[0m\u001b[0;34m\u001b[0m\u001b[0m\n\u001b[1;32m     91\u001b[0m             \u001b[0mlosses\u001b[0m\u001b[0;34m.\u001b[0m\u001b[0mappend\u001b[0m\u001b[0;34m(\u001b[0m\u001b[0mloss\u001b[0m\u001b[0;34m)\u001b[0m\u001b[0;34m\u001b[0m\u001b[0;34m\u001b[0m\u001b[0m\n",
      "\u001b[0;32m~/anaconda3/lib/python3.7/site-packages/keras/engine/training.py\u001b[0m in \u001b[0;36mtrain_on_batch\u001b[0;34m(self, x, y, sample_weight, class_weight)\u001b[0m\n\u001b[1;32m   1215\u001b[0m             \u001b[0mins\u001b[0m \u001b[0;34m=\u001b[0m \u001b[0mx\u001b[0m \u001b[0;34m+\u001b[0m \u001b[0my\u001b[0m \u001b[0;34m+\u001b[0m \u001b[0msample_weights\u001b[0m\u001b[0;34m\u001b[0m\u001b[0;34m\u001b[0m\u001b[0m\n\u001b[1;32m   1216\u001b[0m         \u001b[0mself\u001b[0m\u001b[0;34m.\u001b[0m\u001b[0m_make_train_function\u001b[0m\u001b[0;34m(\u001b[0m\u001b[0;34m)\u001b[0m\u001b[0;34m\u001b[0m\u001b[0;34m\u001b[0m\u001b[0m\n\u001b[0;32m-> 1217\u001b[0;31m         \u001b[0moutputs\u001b[0m \u001b[0;34m=\u001b[0m \u001b[0mself\u001b[0m\u001b[0;34m.\u001b[0m\u001b[0mtrain_function\u001b[0m\u001b[0;34m(\u001b[0m\u001b[0mins\u001b[0m\u001b[0;34m)\u001b[0m\u001b[0;34m\u001b[0m\u001b[0;34m\u001b[0m\u001b[0m\n\u001b[0m\u001b[1;32m   1218\u001b[0m         \u001b[0;32mreturn\u001b[0m \u001b[0munpack_singleton\u001b[0m\u001b[0;34m(\u001b[0m\u001b[0moutputs\u001b[0m\u001b[0;34m)\u001b[0m\u001b[0;34m\u001b[0m\u001b[0;34m\u001b[0m\u001b[0m\n\u001b[1;32m   1219\u001b[0m \u001b[0;34m\u001b[0m\u001b[0m\n",
      "\u001b[0;32m~/anaconda3/lib/python3.7/site-packages/keras/backend/tensorflow_backend.py\u001b[0m in \u001b[0;36m__call__\u001b[0;34m(self, inputs)\u001b[0m\n\u001b[1;32m   2713\u001b[0m                 \u001b[0;32mreturn\u001b[0m \u001b[0mself\u001b[0m\u001b[0;34m.\u001b[0m\u001b[0m_legacy_call\u001b[0m\u001b[0;34m(\u001b[0m\u001b[0minputs\u001b[0m\u001b[0;34m)\u001b[0m\u001b[0;34m\u001b[0m\u001b[0;34m\u001b[0m\u001b[0m\n\u001b[1;32m   2714\u001b[0m \u001b[0;34m\u001b[0m\u001b[0m\n\u001b[0;32m-> 2715\u001b[0;31m             \u001b[0;32mreturn\u001b[0m \u001b[0mself\u001b[0m\u001b[0;34m.\u001b[0m\u001b[0m_call\u001b[0m\u001b[0;34m(\u001b[0m\u001b[0minputs\u001b[0m\u001b[0;34m)\u001b[0m\u001b[0;34m\u001b[0m\u001b[0;34m\u001b[0m\u001b[0m\n\u001b[0m\u001b[1;32m   2716\u001b[0m         \u001b[0;32melse\u001b[0m\u001b[0;34m:\u001b[0m\u001b[0;34m\u001b[0m\u001b[0;34m\u001b[0m\u001b[0m\n\u001b[1;32m   2717\u001b[0m             \u001b[0;32mif\u001b[0m \u001b[0mpy_any\u001b[0m\u001b[0;34m(\u001b[0m\u001b[0mis_tensor\u001b[0m\u001b[0;34m(\u001b[0m\u001b[0mx\u001b[0m\u001b[0;34m)\u001b[0m \u001b[0;32mfor\u001b[0m \u001b[0mx\u001b[0m \u001b[0;32min\u001b[0m \u001b[0minputs\u001b[0m\u001b[0;34m)\u001b[0m\u001b[0;34m:\u001b[0m\u001b[0;34m\u001b[0m\u001b[0;34m\u001b[0m\u001b[0m\n",
      "\u001b[0;32m~/anaconda3/lib/python3.7/site-packages/keras/backend/tensorflow_backend.py\u001b[0m in \u001b[0;36m_call\u001b[0;34m(self, inputs)\u001b[0m\n\u001b[1;32m   2673\u001b[0m             \u001b[0mfetched\u001b[0m \u001b[0;34m=\u001b[0m \u001b[0mself\u001b[0m\u001b[0;34m.\u001b[0m\u001b[0m_callable_fn\u001b[0m\u001b[0;34m(\u001b[0m\u001b[0;34m*\u001b[0m\u001b[0marray_vals\u001b[0m\u001b[0;34m,\u001b[0m \u001b[0mrun_metadata\u001b[0m\u001b[0;34m=\u001b[0m\u001b[0mself\u001b[0m\u001b[0;34m.\u001b[0m\u001b[0mrun_metadata\u001b[0m\u001b[0;34m)\u001b[0m\u001b[0;34m\u001b[0m\u001b[0;34m\u001b[0m\u001b[0m\n\u001b[1;32m   2674\u001b[0m         \u001b[0;32melse\u001b[0m\u001b[0;34m:\u001b[0m\u001b[0;34m\u001b[0m\u001b[0;34m\u001b[0m\u001b[0m\n\u001b[0;32m-> 2675\u001b[0;31m             \u001b[0mfetched\u001b[0m \u001b[0;34m=\u001b[0m \u001b[0mself\u001b[0m\u001b[0;34m.\u001b[0m\u001b[0m_callable_fn\u001b[0m\u001b[0;34m(\u001b[0m\u001b[0;34m*\u001b[0m\u001b[0marray_vals\u001b[0m\u001b[0;34m)\u001b[0m\u001b[0;34m\u001b[0m\u001b[0;34m\u001b[0m\u001b[0m\n\u001b[0m\u001b[1;32m   2676\u001b[0m         \u001b[0;32mreturn\u001b[0m \u001b[0mfetched\u001b[0m\u001b[0;34m[\u001b[0m\u001b[0;34m:\u001b[0m\u001b[0mlen\u001b[0m\u001b[0;34m(\u001b[0m\u001b[0mself\u001b[0m\u001b[0;34m.\u001b[0m\u001b[0moutputs\u001b[0m\u001b[0;34m)\u001b[0m\u001b[0;34m]\u001b[0m\u001b[0;34m\u001b[0m\u001b[0;34m\u001b[0m\u001b[0m\n\u001b[1;32m   2677\u001b[0m \u001b[0;34m\u001b[0m\u001b[0m\n",
      "\u001b[0;32m~/anaconda3/lib/python3.7/site-packages/tensorflow/python/client/session.py\u001b[0m in \u001b[0;36m__call__\u001b[0;34m(self, *args, **kwargs)\u001b[0m\n\u001b[1;32m   1437\u001b[0m           ret = tf_session.TF_SessionRunCallable(\n\u001b[1;32m   1438\u001b[0m               \u001b[0mself\u001b[0m\u001b[0;34m.\u001b[0m\u001b[0m_session\u001b[0m\u001b[0;34m.\u001b[0m\u001b[0m_session\u001b[0m\u001b[0;34m,\u001b[0m \u001b[0mself\u001b[0m\u001b[0;34m.\u001b[0m\u001b[0m_handle\u001b[0m\u001b[0;34m,\u001b[0m \u001b[0margs\u001b[0m\u001b[0;34m,\u001b[0m \u001b[0mstatus\u001b[0m\u001b[0;34m,\u001b[0m\u001b[0;34m\u001b[0m\u001b[0;34m\u001b[0m\u001b[0m\n\u001b[0;32m-> 1439\u001b[0;31m               run_metadata_ptr)\n\u001b[0m\u001b[1;32m   1440\u001b[0m         \u001b[0;32mif\u001b[0m \u001b[0mrun_metadata\u001b[0m\u001b[0;34m:\u001b[0m\u001b[0;34m\u001b[0m\u001b[0;34m\u001b[0m\u001b[0m\n\u001b[1;32m   1441\u001b[0m           \u001b[0mproto_data\u001b[0m \u001b[0;34m=\u001b[0m \u001b[0mtf_session\u001b[0m\u001b[0;34m.\u001b[0m\u001b[0mTF_GetBuffer\u001b[0m\u001b[0;34m(\u001b[0m\u001b[0mrun_metadata_ptr\u001b[0m\u001b[0;34m)\u001b[0m\u001b[0;34m\u001b[0m\u001b[0;34m\u001b[0m\u001b[0m\n",
      "\u001b[0;31mKeyboardInterrupt\u001b[0m: "
     ]
    }
   ],
   "source": [
    "train(open(os.path.join(DATA_DIR, \"internet_archive_scifi_v3.txt\")).read(), 2, 2)"
   ]
  },
  {
   "cell_type": "code",
   "execution_count": null,
   "metadata": {},
   "outputs": [],
   "source": [
    "if __name__ == '__main__':\n",
    "    parser = argparse.ArgumentParser(description='Train the model on some text.')\n",
    "    parser.add_argument('--input', default='input.txt', help='name of the text file to train from')\n",
    "    parser.add_argument('--epochs', type=int, default=100, help='number of epochs to train for')\n",
    "    parser.add_argument('--freq', type=int, default=10, help='checkpoint save frequency')\n",
    "    args = parser.parse_args()\n",
    "\n",
    "    if not os.path.exists(LOG_DIR):\n",
    "        os.makedirs(LOG_DIR)\n",
    "\n",
    "    train(open(os.path.join(DATA_DIR, args.input)).read(), args.epochs, args.freq)"
   ]
  },
  {
   "cell_type": "code",
   "execution_count": null,
   "metadata": {},
   "outputs": [],
   "source": []
  },
  {
   "cell_type": "code",
   "execution_count": null,
   "metadata": {},
   "outputs": [],
   "source": []
  },
  {
   "cell_type": "code",
   "execution_count": null,
   "metadata": {},
   "outputs": [],
   "source": []
  },
  {
   "cell_type": "code",
   "execution_count": null,
   "metadata": {},
   "outputs": [],
   "source": []
  },
  {
   "cell_type": "code",
   "execution_count": null,
   "metadata": {},
   "outputs": [],
   "source": []
  },
  {
   "cell_type": "code",
   "execution_count": null,
   "metadata": {},
   "outputs": [],
   "source": []
  },
  {
   "cell_type": "code",
   "execution_count": null,
   "metadata": {},
   "outputs": [],
   "source": []
  },
  {
   "cell_type": "code",
   "execution_count": null,
   "metadata": {},
   "outputs": [],
   "source": []
  },
  {
   "cell_type": "code",
   "execution_count": null,
   "metadata": {},
   "outputs": [],
   "source": []
  },
  {
   "cell_type": "code",
   "execution_count": null,
   "metadata": {},
   "outputs": [],
   "source": []
  },
  {
   "cell_type": "code",
   "execution_count": null,
   "metadata": {},
   "outputs": [],
   "source": []
  },
  {
   "cell_type": "code",
   "execution_count": null,
   "metadata": {},
   "outputs": [],
   "source": []
  },
  {
   "cell_type": "code",
   "execution_count": null,
   "metadata": {},
   "outputs": [],
   "source": []
  },
  {
   "cell_type": "code",
   "execution_count": null,
   "metadata": {},
   "outputs": [],
   "source": []
  }
 ],
 "metadata": {
  "kernelspec": {
   "display_name": "Python 3",
   "language": "python",
   "name": "python3"
  },
  "language_info": {
   "codemirror_mode": {
    "name": "ipython",
    "version": 3
   },
   "file_extension": ".py",
   "mimetype": "text/x-python",
   "name": "python",
   "nbconvert_exporter": "python",
   "pygments_lexer": "ipython3",
   "version": "3.7.1"
  }
 },
 "nbformat": 4,
 "nbformat_minor": 2
}
